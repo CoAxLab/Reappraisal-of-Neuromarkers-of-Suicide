{
 "cells": [
  {
   "cell_type": "markdown",
   "metadata": {},
   "source": [
    "## Reanalysis of Just et al. 2017\n",
    "\n",
    "This notebook describes the steps of the reanalysis of the results from Just, M. A., Pan, L., Cherkassky, V. L., McMakin, D. L., Cha, C., Nock, M. K., & Brent, D. (2017). Machine learning of neural representations of suicide and emotion concepts identifies suicidal youth. Nature human behaviour, 1(12), 911-919.\n"
   ]
  },
  {
   "cell_type": "markdown",
   "metadata": {},
   "source": [
    "\n",
    "**Requirements**:\n",
    "\n",
    "To run this demo, you will need\n",
    "\n",
    "Octave v.6.2.0\n",
    "\n",
    "Statistics pkg v1.4.2"
   ]
  },
  {
   "cell_type": "markdown",
   "metadata": {},
   "source": [
    "---\n",
    "**Step 1: Get requirements loaded for running the demo**\n",
    "\n",
    "For this we are running the octave kernel. Run \n",
    "\n",
    ">pip-install octave kernel \n",
    "\n",
    "from the command line if you want to run this as a notebook yourself."
   ]
  },
  {
   "cell_type": "markdown",
   "metadata": {},
   "source": [
    "If you have not already done so, you will also need to install the statistics package for Octave found in the current directory if you have not already. You can uncomment the following line or run it natively in your local Octave environment."
   ]
  },
  {
   "cell_type": "code",
   "execution_count": 1,
   "metadata": {},
   "outputs": [],
   "source": [
    "#pkg install statistics-1.4.2.tar.gz"
   ]
  },
  {
   "cell_type": "markdown",
   "metadata": {},
   "source": [
    "Then load the statistics package to have access to the functions."
   ]
  },
  {
   "cell_type": "code",
   "execution_count": 2,
   "metadata": {},
   "outputs": [],
   "source": [
    "# Since we are using Octave we need to load the statistics pkg to use \n",
    "# logistic regression function.\n",
    "pkg load statistics"
   ]
  },
  {
   "cell_type": "markdown",
   "metadata": {},
   "source": [
    "---\n",
    "**Step 2: Replicate the results from Just et al. 2017.**\n",
    "\n",
    "To start, run the *configuration.m* file to load the prior variables in the workspace. This shows the core parameters/features of the original analysis."
   ]
  },
  {
   "cell_type": "code",
   "execution_count": 3,
   "metadata": {},
   "outputs": [
    {
     "name": "stdout",
     "output_type": "stream",
     "text": [
      "Variables visible from the current scope:\r\n",
      "\r\n",
      "aff_subj2use     descriptor       loc_aff2use      pd\r\n",
      "ans              in_aff_clusters  loc_con2use      selector\r\n",
      "con_subj2use     in_common        minnvox          vsel\r\n",
      "data2use         in_con_clusters  nvox             words2use\r\n",
      "\r\n"
     ]
    }
   ],
   "source": [
    "# Load the config file\n",
    "configuration\n",
    "who"
   ]
  },
  {
   "cell_type": "markdown",
   "metadata": {},
   "source": [
    "Next load the word labels to get the words used in the classifier. "
   ]
  },
  {
   "cell_type": "code",
   "execution_count": 4,
   "metadata": {},
   "outputs": [
    {
     "name": "stdout",
     "output_type": "stream",
     "text": [
      "ans = death\r\n",
      "ans = carefree\r\n",
      "ans = good\r\n",
      "ans = cruelty\r\n",
      "ans = praise\r\n",
      "ans = trouble\r\n"
     ]
    }
   ],
   "source": [
    "# Load words object\n",
    "load ../data/words.mat\n",
    "words{words2use}"
   ]
  },
  {
   "cell_type": "markdown",
   "metadata": {},
   "source": [
    "Then show the regions selected for each group (_aff_ and _con_) respectively."
   ]
  },
  {
   "cell_type": "code",
   "execution_count": 5,
   "metadata": {},
   "outputs": [
    {
     "name": "stdout",
     "output_type": "stream",
     "text": [
      "ans = Parietal_Inf_L\r\n",
      "ans = Frontal_Inf_Tri_L\r\n"
     ]
    }
   ],
   "source": [
    "load ../data/aff_stabLocations.mat\n",
    "clusters(loc_aff2use).label"
   ]
  },
  {
   "cell_type": "code",
   "execution_count": 6,
   "metadata": {},
   "outputs": [
    {
     "name": "stdout",
     "output_type": "stream",
     "text": [
      "ans = Frontal_Sup_Medial_L\r\n",
      "ans = Cingulum_Ant_L\r\n",
      "ans = Temporal_Mid_R\r\n"
     ]
    }
   ],
   "source": [
    "load ../data/con_stabLocations.mat\n",
    "clusters(loc_con2use).label"
   ]
  },
  {
   "cell_type": "markdown",
   "metadata": {},
   "source": [
    "Now rrun the analysis from scratch using the default _configuration.m_ file."
   ]
  },
  {
   "cell_type": "code",
   "execution_count": 7,
   "metadata": {},
   "outputs": [
    {
     "name": "stdout",
     "output_type": "stream",
     "text": [
      "Aff subj: 01111111111101111\n",
      "Con subj: 11111111111110111\n",
      "Mean group membership classification accuracy: 0.91\n"
     ]
    }
   ],
   "source": [
    "[meanacc,full_acc] = group_membership('configuration');"
   ]
  },
  {
   "cell_type": "markdown",
   "metadata": {},
   "source": [
    "As you can see, the steps perfectly replicate the results reported in the original manuscript."
   ]
  },
  {
   "cell_type": "markdown",
   "metadata": {},
   "source": [
    "---\n",
    "**Step 3: Run a forwards stepwise search for the reliable terms (words) using all of the stable regions and logistic regression classifier.**\n",
    "\n",
    "The _configuration__stepwise__search.m_ file defines the parameters of this routine. \n",
    "\n",
    "We tried to stick to the authors' original code as much as possible. Thus we kept with the configuration file scheme for all new functions.\n"
   ]
  },
  {
   "cell_type": "markdown",
   "metadata": {},
   "source": [
    "**Note:** This can take up to an hour to run, depending on whether you are using Matlab or Octave and your processor speed. So go make a tea and come back if you run the next cell."
   ]
  },
  {
   "cell_type": "code",
   "execution_count": 8,
   "metadata": {},
   "outputs": [
    {
     "name": "stdout",
     "output_type": "stream",
     "text": [
      "k=1, w = 1\n",
      "k=1, w = 2\n",
      "k=1, w = 3\n",
      "k=1, w = 4\n",
      "k=1, w = 5\n",
      "k=1, w = 6\n",
      "k=1, w = 7\n",
      "k=1, w = 8\n",
      "k=1, w = 9\n",
      "k=1, w = 10\n",
      "k=1, w = 11\n",
      "epsilon\n",
      "2.7418e-03\n",
      "k=1, w = 12\n",
      "k=1, w = 13\n",
      "k=1, w = 14\n",
      "k=1, w = 15\n",
      "k=1, w = 16\n",
      "k=1, w = 17\n",
      "k=1, w = 18\n",
      "k=1, w = 19\n",
      "k=1, w = 20\n",
      "k=1, w = 21\n",
      "k=1, w = 22\n",
      "k=1, w = 23\n",
      "k=1, w = 24\n",
      "k=1, w = 25\n",
      "k=1, w = 26\n",
      "epsilon\n",
      "8.1884e-05\n",
      "epsilon\n",
      "8.1884e-04\n",
      "epsilon\n",
      "8.1884e-03\n",
      "epsilon\n",
      "0.081884\n",
      "epsilon\n",
      "0.8188\n",
      "epsilon\n",
      "8.1884\n",
      "epsilon\n",
      "81.884\n",
      "epsilon\n",
      "818.84\n",
      "epsilon\n",
      "8188.4\n",
      "epsilon\n",
      "8.1884e+04\n",
      "epsilon\n",
      "8.1884e+05\n",
      "epsilon\n",
      "8.1884e+06\n",
      "epsilon\n",
      "8.1884e+07\n",
      "epsilon\n",
      "8.1884e+08\n",
      "epsilon\n",
      "8.1884e+09\n",
      "epsilon\n",
      "8.1884e+10\n",
      "epsilon\n",
      "8.1884e+11\n",
      "epsilon\n",
      "8.1884e+12\n",
      "epsilon\n",
      "8.1884e+13\n",
      "epsilon\n",
      "8.1884e+14\n",
      "k=1, w = 27\n",
      "k=1, w = 28\n",
      "k=1, w = 29\n",
      "k=1, w = 30\n",
      "k=2, w = 1\n",
      "k=2, w = 2\n",
      "k=2, w = 3\n",
      "k=2, w = 4\n",
      "k=2, w = 5\n",
      "k=2, w = 6\n",
      "k=2, w = 7\n",
      "k=2, w = 8\n",
      "k=2, w = 9\n",
      "k=2, w = 10\n",
      "k=2, w = 11\n",
      "k=2, w = 12\n",
      "k=2, w = 13\n",
      "k=2, w = 14\n",
      "k=2, w = 15\n",
      "k=2, w = 16\n",
      "k=2, w = 17\n",
      "k=2, w = 18\n",
      "k=2, w = 19\n",
      "k=2, w = 20\n",
      "k=2, w = 21\n",
      "k=2, w = 22\n",
      "k=2, w = 23\n",
      "k=2, w = 24\n",
      "k=2, w = 25\n",
      "k=2, w = 26\n",
      "k=2, w = 27\n",
      "k=2, w = 28\n",
      "k=2, w = 29\n",
      "k=3, w = 1\n",
      "k=3, w = 2\n",
      "k=3, w = 3\n",
      "k=3, w = 4\n",
      "k=3, w = 5\n",
      "k=3, w = 6\n",
      "k=3, w = 7\n",
      "k=3, w = 8\n",
      "k=3, w = 9\n",
      "k=3, w = 10\n",
      "k=3, w = 11\n",
      "k=3, w = 12\n",
      "k=3, w = 13\n",
      "k=3, w = 14\n",
      "k=3, w = 15\n",
      "k=3, w = 16\n",
      "k=3, w = 17\n",
      "k=3, w = 18\n",
      "k=3, w = 19\n",
      "k=3, w = 20\n",
      "k=3, w = 21\n",
      "k=3, w = 22\n",
      "k=3, w = 23\n",
      "k=3, w = 24\n",
      "k=3, w = 25\n",
      "k=3, w = 26\n",
      "k=3, w = 27\n",
      "k=3, w = 28\n",
      "k=4, w = 1\n",
      "k=4, w = 2\n",
      "k=4, w = 3\n",
      "k=4, w = 4\n",
      "k=4, w = 5\n",
      "k=4, w = 6\n",
      "k=4, w = 7\n",
      "k=4, w = 8\n",
      "k=4, w = 9\n",
      "k=4, w = 10\n",
      "k=4, w = 11\n",
      "k=4, w = 12\n",
      "k=4, w = 13\n",
      "k=4, w = 14\n",
      "k=4, w = 15\n",
      "k=4, w = 16\n",
      "k=4, w = 17\n",
      "k=4, w = 18\n",
      "k=4, w = 19\n",
      "k=4, w = 20\n",
      "k=4, w = 21\n",
      "k=4, w = 22\n",
      "k=4, w = 23\n",
      "k=4, w = 24\n",
      "k=4, w = 25\n",
      "k=4, w = 26\n",
      "k=4, w = 27\n",
      "k=5, w = 1\n",
      "k=5, w = 2\n",
      "k=5, w = 3\n",
      "k=5, w = 4\n",
      "k=5, w = 5\n",
      "k=5, w = 6\n",
      "k=5, w = 7\n",
      "k=5, w = 8\n",
      "k=5, w = 9\n",
      "k=5, w = 10\n",
      "k=5, w = 11\n",
      "k=5, w = 12\n",
      "k=5, w = 13\n",
      "k=5, w = 14\n",
      "k=5, w = 15\n",
      "k=5, w = 16\n",
      "k=5, w = 17\n",
      "k=5, w = 18\n",
      "k=5, w = 19\n",
      "k=5, w = 20\n",
      "k=5, w = 21\n",
      "k=5, w = 22\n",
      "k=5, w = 23\n",
      "k=5, w = 24\n",
      "k=5, w = 25\n",
      "k=5, w = 26\n",
      "k=6, w = 1\n",
      "k=6, w = 2\n",
      "k=6, w = 3\n",
      "k=6, w = 4\n",
      "k=6, w = 5\n",
      "k=6, w = 6\n",
      "k=6, w = 7\n",
      "k=6, w = 8\n",
      "k=6, w = 9\n",
      "k=6, w = 10\n",
      "k=6, w = 11\n",
      "k=6, w = 12\n",
      "k=6, w = 13\n",
      "k=6, w = 14\n",
      "k=6, w = 15\n",
      "k=6, w = 16\n",
      "k=6, w = 17\n",
      "k=6, w = 18\n",
      "k=6, w = 19\n",
      "k=6, w = 20\n",
      "k=6, w = 21\n",
      "k=6, w = 22\n",
      "k=6, w = 23\n",
      "k=6, w = 24\n",
      "k=6, w = 25\n",
      "k=7, w = 1\n",
      "k=7, w = 2\n",
      "k=7, w = 3\n",
      "k=7, w = 4\n",
      "k=7, w = 5\n",
      "k=7, w = 6\n",
      "k=7, w = 7\n",
      "k=7, w = 8\n",
      "k=7, w = 9\n",
      "k=7, w = 10\n",
      "k=7, w = 11\n",
      "k=7, w = 12\n",
      "k=7, w = 13\n",
      "k=7, w = 14\n",
      "k=7, w = 15\n",
      "k=7, w = 16\n",
      "k=7, w = 17\n",
      "k=7, w = 18\n",
      "k=7, w = 19\n",
      "k=7, w = 20\n",
      "k=7, w = 21\n",
      "k=7, w = 22\n",
      "k=7, w = 23\n",
      "k=7, w = 24\n",
      "k=8, w = 1\n",
      "k=8, w = 2\n",
      "k=8, w = 3\n",
      "k=8, w = 4\n",
      "k=8, w = 5\n",
      "k=8, w = 6\n",
      "k=8, w = 7\n",
      "k=8, w = 8\n",
      "k=8, w = 9\n",
      "k=8, w = 10\n",
      "k=8, w = 11\n",
      "k=8, w = 12\n",
      "k=8, w = 13\n",
      "k=8, w = 14\n",
      "k=8, w = 15\n",
      "k=8, w = 16\n",
      "k=8, w = 17\n",
      "k=8, w = 18\n",
      "k=8, w = 19\n",
      "k=8, w = 20\n",
      "k=8, w = 21\n",
      "k=8, w = 22\n",
      "k=8, w = 23\n",
      "k=9, w = 1\n",
      "k=9, w = 2\n",
      "k=9, w = 3\n",
      "k=9, w = 4\n",
      "k=9, w = 5\n",
      "k=9, w = 6\n",
      "k=9, w = 7\n",
      "k=9, w = 8\n",
      "k=9, w = 9\n",
      "k=9, w = 10\n",
      "k=9, w = 11\n",
      "k=9, w = 12\n",
      "k=9, w = 13\n",
      "k=9, w = 14\n",
      "k=9, w = 15\n",
      "k=9, w = 16\n",
      "k=9, w = 17\n",
      "k=9, w = 18\n",
      "k=9, w = 19\n",
      "k=9, w = 20\n",
      "k=9, w = 21\n",
      "k=9, w = 22\n",
      "k=10, w = 1\n",
      "k=10, w = 2\n",
      "k=10, w = 3\n",
      "k=10, w = 4\n",
      "k=10, w = 5\n",
      "k=10, w = 6\n",
      "k=10, w = 7\n",
      "k=10, w = 8\n",
      "k=10, w = 9\n",
      "k=10, w = 10\n",
      "k=10, w = 11\n",
      "k=10, w = 12\n",
      "k=10, w = 13\n",
      "k=10, w = 14\n",
      "k=10, w = 15\n",
      "k=10, w = 16\n",
      "k=10, w = 17\n",
      "k=10, w = 18\n",
      "k=10, w = 19\n",
      "k=10, w = 20\n",
      "k=10, w = 21\n",
      "k=11, w = 1\n",
      "k=11, w = 2\n",
      "k=11, w = 3\n",
      "k=11, w = 4\n",
      "k=11, w = 5\n",
      "k=11, w = 6\n",
      "k=11, w = 7\n",
      "k=11, w = 8\n",
      "k=11, w = 9\n",
      "k=11, w = 10\n",
      "k=11, w = 11\n",
      "k=11, w = 12\n",
      "k=11, w = 13\n",
      "k=11, w = 14\n",
      "k=11, w = 15\n",
      "k=11, w = 16\n",
      "k=11, w = 17\n",
      "k=11, w = 18\n",
      "k=11, w = 19\n",
      "k=11, w = 20\n",
      "k=12, w = 1\n",
      "k=12, w = 2\n",
      "k=12, w = 3\n",
      "k=12, w = 4\n",
      "k=12, w = 5\n",
      "k=12, w = 6\n",
      "k=12, w = 7\n",
      "k=12, w = 8\n",
      "k=12, w = 9\n",
      "k=12, w = 10\n",
      "k=12, w = 11\n",
      "k=12, w = 12\n",
      "k=12, w = 13\n",
      "k=12, w = 14\n",
      "k=12, w = 15\n",
      "k=12, w = 16\n",
      "k=12, w = 17\n",
      "k=12, w = 18\n",
      "k=12, w = 19\n",
      "k=13, w = 1\n",
      "k=13, w = 2\n",
      "k=13, w = 3\n",
      "k=13, w = 4\n",
      "k=13, w = 5\n",
      "k=13, w = 6\n",
      "k=13, w = 7\n",
      "k=13, w = 8\n",
      "k=13, w = 9\n",
      "k=13, w = 10\n",
      "k=13, w = 11\n",
      "k=13, w = 12\n",
      "k=13, w = 13\n",
      "k=13, w = 14\n",
      "k=13, w = 15\n",
      "k=13, w = 16\n",
      "k=13, w = 17\n",
      "k=13, w = 18\n",
      "k=14, w = 1\n",
      "k=14, w = 2\n",
      "k=14, w = 3\n",
      "k=14, w = 4\n",
      "k=14, w = 5\n",
      "k=14, w = 6\n",
      "k=14, w = 7\n",
      "k=14, w = 8\n",
      "k=14, w = 9\n",
      "k=14, w = 10\n",
      "k=14, w = 11\n",
      "k=14, w = 12\n",
      "k=14, w = 13\n",
      "k=14, w = 14\n",
      "k=14, w = 15\n",
      "k=14, w = 16\n",
      "k=14, w = 17\n",
      "k=15, w = 1\n",
      "k=15, w = 2\n",
      "k=15, w = 3\n",
      "k=15, w = 4\n",
      "k=15, w = 5\n",
      "k=15, w = 6\n",
      "k=15, w = 7\n",
      "k=15, w = 8\n",
      "k=15, w = 9\n",
      "k=15, w = 10\n",
      "k=15, w = 11\n",
      "k=15, w = 12\n",
      "k=15, w = 13\n",
      "k=15, w = 14\n",
      "k=15, w = 15\n",
      "k=15, w = 16\n",
      "k=16, w = 1\n",
      "k=16, w = 2\n",
      "k=16, w = 3\n",
      "k=16, w = 4\n",
      "k=16, w = 5\n",
      "k=16, w = 6\n",
      "k=16, w = 7\n",
      "k=16, w = 8\n",
      "k=16, w = 9\n",
      "k=16, w = 10\n",
      "k=16, w = 11\n",
      "k=16, w = 12\n",
      "k=16, w = 13\n",
      "k=16, w = 14\n",
      "k=16, w = 15\n",
      "k=17, w = 1\n",
      "k=17, w = 2\n",
      "k=17, w = 3\n",
      "k=17, w = 4\n",
      "k=17, w = 5\n",
      "k=17, w = 6\n",
      "k=17, w = 7\n",
      "k=17, w = 8\n",
      "k=17, w = 9\n",
      "k=17, w = 10\n",
      "k=17, w = 11\n",
      "k=17, w = 12\n",
      "k=17, w = 13\n",
      "k=17, w = 14\n",
      "k=18, w = 1\n",
      "k=18, w = 2\n",
      "k=18, w = 3\n",
      "k=18, w = 4\n",
      "k=18, w = 5\n",
      "k=18, w = 6\n",
      "k=18, w = 7\n",
      "k=18, w = 8\n",
      "k=18, w = 9\n",
      "k=18, w = 10\n",
      "k=18, w = 11\n",
      "k=18, w = 12\n",
      "k=18, w = 13\n",
      "k=19, w = 1\n",
      "k=19, w = 2\n",
      "k=19, w = 3\n",
      "k=19, w = 4\n",
      "k=19, w = 5\n",
      "k=19, w = 6\n",
      "k=19, w = 7\n",
      "k=19, w = 8\n",
      "k=19, w = 9\n",
      "k=19, w = 10\n",
      "k=19, w = 11\n",
      "k=19, w = 12\n",
      "k=20, w = 1\n",
      "k=20, w = 2\n",
      "k=20, w = 3\n",
      "k=20, w = 4\n",
      "k=20, w = 5\n",
      "k=20, w = 6\n",
      "k=20, w = 7\n",
      "k=20, w = 8\n",
      "k=20, w = 9\n",
      "k=20, w = 10\n",
      "k=20, w = 11\n",
      "k=21, w = 1\n",
      "k=21, w = 2\n",
      "k=21, w = 3\n",
      "k=21, w = 4\n",
      "k=21, w = 5\n",
      "k=21, w = 6\n",
      "k=21, w = 7\n",
      "k=21, w = 8\n",
      "k=21, w = 9\n",
      "k=21, w = 10\n",
      "k=22, w = 1\n",
      "k=22, w = 2\n",
      "k=22, w = 3\n",
      "k=22, w = 4\n",
      "k=22, w = 5\n",
      "k=22, w = 6\n",
      "k=22, w = 7\n",
      "k=22, w = 8\n",
      "k=22, w = 9\n",
      "k=23, w = 1\n",
      "k=23, w = 2\n",
      "k=23, w = 3\n",
      "k=23, w = 4\n",
      "k=23, w = 5\n",
      "k=23, w = 6\n",
      "k=23, w = 7\n",
      "k=23, w = 8\n",
      "k=24, w = 1\n",
      "k=24, w = 2\n",
      "k=24, w = 3\n",
      "k=24, w = 4\n",
      "k=24, w = 5\n",
      "k=24, w = 6\n",
      "k=24, w = 7\n",
      "k=25, w = 1\n",
      "k=25, w = 2\n",
      "k=25, w = 3\n",
      "k=25, w = 4\n",
      "k=25, w = 5\n",
      "k=25, w = 6\n",
      "k=26, w = 1\n",
      "k=26, w = 2\n",
      "k=26, w = 3\n",
      "k=26, w = 4\n",
      "k=26, w = 5\n",
      "k=27, w = 1\n",
      "k=27, w = 2\n",
      "k=27, w = 3\n",
      "k=27, w = 4\n",
      "k=28, w = 1\n",
      "k=28, w = 2\n",
      "k=28, w = 3\n",
      "k=29, w = 1\n",
      "k=29, w = 2\n",
      "k=30, w = 1\n",
      "error: 'kc_len_aic' undefined near line 1, column 1\n"
     ]
    }
   ],
   "source": [
    "# Clear the workspace \n",
    "clear \n",
    "\n",
    "# Run forward stepwise search for words, using all regions.\n",
    "[prime_list, k_len_aic] = logistic_regression_wordsearch('configuration_stepwise_search');\n",
    "word_list = prime_list(1:find(k_len_aic == min(kc_len_aic)));"
   ]
  },
  {
   "cell_type": "markdown",
   "metadata": {},
   "source": [
    "The word list recovered using this search does not match the prior words. Only 1 term is recovered and it does not match with the original original set."
   ]
  },
  {
   "cell_type": "code",
   "execution_count": 9,
   "metadata": {},
   "outputs": [
    {
     "name": "stdout",
     "output_type": "stream",
     "text": [
      "ans = vitality\r\n"
     ]
    }
   ],
   "source": [
    "word_list = prime_list(1:find(k_len_aic == min(k_len_aic)));\n",
    "load ../data/words.mat\n",
    "words{word_list}\n"
   ]
  },
  {
   "cell_type": "markdown",
   "metadata": {},
   "source": [
    "If we look at the rank ordering of the words from the stepwise search, we fail to find a substantial overlap with the original list."
   ]
  },
  {
   "cell_type": "code",
   "execution_count": 10,
   "metadata": {},
   "outputs": [
    {
     "name": "stdout",
     "output_type": "stream",
     "text": [
      "ans = vitality\r\n",
      "ans = apathy\r\n",
      "ans = death\r\n",
      "ans = desperate\r\n",
      "ans = distressed\r\n",
      "ans = fatal\r\n",
      "ans = funeral\r\n",
      "ans = hopeless\r\n",
      "ans = lifeless\r\n",
      "ans = overdose\r\n",
      "ans = suicide\r\n",
      "ans = bliss\r\n",
      "ans = carefree\r\n",
      "ans = comfort\r\n",
      "ans = excellent\r\n",
      "ans = good\r\n",
      "ans = innocent\r\n",
      "ans = kindness\r\n",
      "ans = praise\r\n",
      "ans = superior\r\n",
      "ans = boredom\r\n",
      "ans = criticism\r\n",
      "ans = cruelty\r\n",
      "ans = evil\r\n",
      "ans = gloom\r\n",
      "ans = guilty\r\n",
      "ans = inferior\r\n",
      "ans = terrible\r\n",
      "ans = trouble\r\n",
      "ans = worried\r\n"
     ]
    }
   ],
   "source": [
    "words{prime_list}\n"
   ]
  },
  {
   "cell_type": "markdown",
   "metadata": {},
   "source": [
    "The associated AIC values for the list are:"
   ]
  },
  {
   "cell_type": "code",
   "execution_count": 11,
   "metadata": {},
   "outputs": [
    {
     "name": "stdout",
     "output_type": "stream",
     "text": [
      "ans =\r\n",
      "\r\n",
      "    1.4706\r\n",
      "    2.9412\r\n",
      "    4.4118\r\n",
      "    5.8824\r\n",
      "    7.3529\r\n",
      "    8.8235\r\n",
      "   10.2941\r\n",
      "   11.7647\r\n",
      "   13.2353\r\n",
      "   14.7059\r\n",
      "   16.1765\r\n",
      "   17.6471\r\n",
      "   19.1177\r\n",
      "   20.5882\r\n",
      "   22.0588\r\n",
      "   23.5294\r\n",
      "   25.0000\r\n",
      "   26.4706\r\n",
      "   27.9412\r\n",
      "   29.4118\r\n",
      "   30.8824\r\n",
      "   32.3530\r\n",
      "   33.8236\r\n",
      "   35.2941\r\n",
      "   36.7647\r\n",
      "   38.2353\r\n",
      "   39.7059\r\n",
      "   41.1765\r\n",
      "   42.6471\r\n",
      "   44.1177\r\n",
      "\r\n"
     ]
    }
   ],
   "source": [
    "k_len_aic'"
   ]
  },
  {
   "cell_type": "markdown",
   "metadata": {},
   "source": [
    "---\n",
    "**Step 4: Run a forwards stepwise search for regions (locations) from both the _aff_ and _con_ groups separately, using all words.**\n",
    "\n",
    "This will use all words to avoid information leakage from the original word selection steps.\n",
    "\n",
    "The reason for the separate set per group is because stable voxels were identified per group instead of across all participants. (Again, this takes a while to run)"
   ]
  },
  {
   "cell_type": "code",
   "execution_count": 12,
   "metadata": {},
   "outputs": [
    {
     "name": "stdout",
     "output_type": "stream",
     "text": [
      "k=1, r = 1\n",
      "k=1, r = 2\n",
      "k=1, r = 3\n",
      "k=1, r = 4\n",
      "k=1, r = 5\n",
      "k=1, r = 6\n",
      "k=1, r = 7\n",
      "k=1, r = 8\n",
      "k=1, r = 9\n",
      "k=1, r = 10\n",
      "k=1, r = 11\n",
      "k=2, r = 1\n",
      "k=2, r = 2\n",
      "k=2, r = 3\n",
      "k=2, r = 4\n",
      "k=2, r = 5\n",
      "k=2, r = 6\n",
      "k=2, r = 7\n",
      "k=2, r = 8\n",
      "k=2, r = 9\n",
      "k=2, r = 10\n",
      "k=3, r = 1\n",
      "k=3, r = 2\n",
      "k=3, r = 3\n",
      "k=3, r = 4\n",
      "k=3, r = 5\n",
      "k=3, r = 6\n",
      "k=3, r = 7\n",
      "k=3, r = 8\n",
      "k=3, r = 9\n",
      "k=4, r = 1\n",
      "k=4, r = 2\n",
      "k=4, r = 3\n",
      "k=4, r = 4\n",
      "k=4, r = 5\n",
      "k=4, r = 6\n",
      "k=4, r = 7\n",
      "k=4, r = 8\n",
      "k=5, r = 1\n",
      "k=5, r = 2\n",
      "k=5, r = 3\n",
      "k=5, r = 4\n",
      "k=5, r = 5\n",
      "k=5, r = 6\n",
      "k=5, r = 7\n",
      "k=6, r = 1\n",
      "k=6, r = 2\n",
      "k=6, r = 3\n",
      "k=6, r = 4\n",
      "k=6, r = 5\n",
      "k=6, r = 6\n",
      "k=7, r = 1\n",
      "k=7, r = 2\n",
      "k=7, r = 3\n",
      "k=7, r = 4\n",
      "k=7, r = 5\n",
      "k=8, r = 1\n",
      "k=8, r = 2\n",
      "k=8, r = 3\n",
      "k=8, r = 4\n",
      "k=9, r = 1\n",
      "k=9, r = 2\n",
      "k=9, r = 3\n",
      "k=10, r = 1\n",
      "k=10, r = 2\n",
      "k=11, r = 1\n"
     ]
    }
   ],
   "source": [
    "# Clear the workspace \n",
    "clear \n",
    "\n",
    "% Run forward stepwise search for affective group regions, using all words\n",
    "[prime_list, k_len_aic] = logistic_regression_aff_roisearch('configuration_stepwise_search');\n",
    "aff_region_list = prime_list(1:find(k_len_aic == min(k_len_aic)));"
   ]
  },
  {
   "cell_type": "markdown",
   "metadata": {},
   "source": [
    "This search also recovers a different set of regions than reported in the original paper."
   ]
  },
  {
   "cell_type": "code",
   "execution_count": 13,
   "metadata": {},
   "outputs": [
    {
     "name": "stdout",
     "output_type": "stream",
     "text": [
      "ans = Angular_L\r\n"
     ]
    }
   ],
   "source": [
    "load ../data/aff_stabLocations.mat\n",
    "clusters(aff_region_list).label\n"
   ]
  },
  {
   "cell_type": "markdown",
   "metadata": {},
   "source": [
    "Only one region (left angular gyrus) overlaps with the originally reported set.\n",
    "\n",
    "Even if we look at the ordered list of selected regions (assuming that AIC is too harsh of a complexity penalty), the order of regions returned at each step of the stepwise tests (that evaluate models with equal complexity) the first set of items does not include the original regions."
   ]
  },
  {
   "cell_type": "code",
   "execution_count": 14,
   "metadata": {},
   "outputs": [
    {
     "name": "stdout",
     "output_type": "stream",
     "text": [
      "ans = Angular_L\r\n",
      "ans = Parietal_Sup_L\r\n",
      "ans = Precuneus_L\r\n",
      "ans = Supp_Motor_Area_L\r\n",
      "ans = Temporal_Mid_L\r\n",
      "ans = Precentral_L\r\n",
      "ans = Frontal_Inf_Tri_L\r\n",
      "ans = Temporal_Mid_R\r\n",
      "ans = Frontal_Inf_Tri_L\r\n",
      "ans = Frontal_Inf_Oper_L\r\n",
      "ans = Parietal_Inf_L\r\n"
     ]
    }
   ],
   "source": [
    "clusters(prime_list).label"
   ]
  },
  {
   "cell_type": "markdown",
   "metadata": {},
   "source": [
    "The sorted AIC values for the above list is:"
   ]
  },
  {
   "cell_type": "code",
   "execution_count": 15,
   "metadata": {},
   "outputs": [
    {
     "name": "stdout",
     "output_type": "stream",
     "text": [
      "ans =\r\n",
      "\r\n",
      "    1.7647\r\n",
      "    3.5295\r\n",
      "    5.2942\r\n",
      "    7.0589\r\n",
      "    8.8237\r\n",
      "   10.5886\r\n",
      "   12.3533\r\n",
      "   14.1180\r\n",
      "   15.8827\r\n",
      "   17.6474\r\n",
      "   19.4121\r\n",
      "\r\n"
     ]
    }
   ],
   "source": [
    "k_len_aic'"
   ]
  },
  {
   "cell_type": "markdown",
   "metadata": {},
   "source": [
    "Now let us try the same thing for the _con_ group."
   ]
  },
  {
   "cell_type": "code",
   "execution_count": 16,
   "metadata": {},
   "outputs": [
    {
     "name": "stdout",
     "output_type": "stream",
     "text": [
      "k=1, r = 1\n",
      "k=1, r = 2\n",
      "k=1, r = 3\n",
      "k=1, r = 4\n",
      "k=1, r = 5\n",
      "k=1, r = 6\n",
      "k=1, r = 7\n",
      "k=1, r = 8\n",
      "k=1, r = 9\n",
      "k=1, r = 10\n",
      "k=1, r = 11\n",
      "k=1, r = 12\n",
      "k=1, r = 13\n",
      "k=1, r = 14\n",
      "k=2, r = 1\n",
      "k=2, r = 2\n",
      "k=2, r = 3\n",
      "k=2, r = 4\n",
      "k=2, r = 5\n",
      "k=2, r = 6\n",
      "k=2, r = 7\n",
      "k=2, r = 8\n",
      "k=2, r = 9\n",
      "k=2, r = 10\n",
      "k=2, r = 11\n",
      "k=2, r = 12\n",
      "k=2, r = 13\n",
      "k=3, r = 1\n",
      "k=3, r = 2\n",
      "k=3, r = 3\n",
      "k=3, r = 4\n",
      "k=3, r = 5\n",
      "k=3, r = 6\n",
      "k=3, r = 7\n",
      "k=3, r = 8\n",
      "k=3, r = 9\n",
      "k=3, r = 10\n",
      "k=3, r = 11\n",
      "k=3, r = 12\n",
      "k=4, r = 1\n",
      "k=4, r = 2\n",
      "k=4, r = 3\n",
      "k=4, r = 4\n",
      "k=4, r = 5\n",
      "k=4, r = 6\n",
      "k=4, r = 7\n",
      "k=4, r = 8\n",
      "k=4, r = 9\n",
      "k=4, r = 10\n",
      "k=4, r = 11\n",
      "k=5, r = 1\n",
      "k=5, r = 2\n",
      "k=5, r = 3\n",
      "k=5, r = 4\n",
      "k=5, r = 5\n",
      "k=5, r = 6\n",
      "k=5, r = 7\n",
      "k=5, r = 8\n",
      "k=5, r = 9\n",
      "k=5, r = 10\n",
      "k=6, r = 1\n",
      "k=6, r = 2\n",
      "k=6, r = 3\n",
      "k=6, r = 4\n",
      "k=6, r = 5\n",
      "k=6, r = 6\n",
      "k=6, r = 7\n",
      "k=6, r = 8\n",
      "k=6, r = 9\n",
      "k=7, r = 1\n",
      "k=7, r = 2\n",
      "k=7, r = 3\n",
      "k=7, r = 4\n",
      "k=7, r = 5\n",
      "k=7, r = 6\n",
      "k=7, r = 7\n",
      "k=7, r = 8\n",
      "k=8, r = 1\n",
      "k=8, r = 2\n",
      "k=8, r = 3\n",
      "k=8, r = 4\n",
      "k=8, r = 5\n",
      "k=8, r = 6\n",
      "k=8, r = 7\n",
      "k=9, r = 1\n",
      "k=9, r = 2\n",
      "k=9, r = 3\n",
      "k=9, r = 4\n",
      "k=9, r = 5\n",
      "k=9, r = 6\n",
      "k=10, r = 1\n",
      "k=10, r = 2\n",
      "k=10, r = 3\n",
      "k=10, r = 4\n",
      "k=10, r = 5\n",
      "k=11, r = 1\n",
      "k=11, r = 2\n",
      "k=11, r = 3\n",
      "k=11, r = 4\n",
      "k=12, r = 1\n",
      "k=12, r = 2\n",
      "k=12, r = 3\n",
      "k=13, r = 1\n",
      "k=13, r = 2\n",
      "k=14, r = 1\n"
     ]
    }
   ],
   "source": [
    "# Clear the workspace\n",
    "clear\n",
    "\n",
    "# Run forward stepwise search for control group regions, using all words\n",
    "[prime_list, k_len_aic] = logistic_regression_con_roisearch('configuration_stepwise_search');\n",
    "con_region_list = prime_list(1:find(k_len_aic == min(k_len_aic)));"
   ]
  },
  {
   "cell_type": "code",
   "execution_count": 17,
   "metadata": {},
   "outputs": [
    {
     "name": "stdout",
     "output_type": "stream",
     "text": [
      "ans = Cingulum_Ant_L\r\n"
     ]
    }
   ],
   "source": [
    "load ../data/con_stabLocations.mat\n",
    "clusters(con_region_list).label\n"
   ]
  },
  {
   "cell_type": "markdown",
   "metadata": {},
   "source": [
    "Only one region was observed, which was one of the three regions in the original set for this group.\n",
    "\n",
    "Again, even if we look at the ordered list of selected regions (assuming that AIC is too harsh of a complexity penalty), the order of regions returned at each step of the stepwise tests (that evaluate models with equal complexity) the first set of items does not include the original regions."
   ]
  },
  {
   "cell_type": "code",
   "execution_count": 18,
   "metadata": {},
   "outputs": [
    {
     "name": "stdout",
     "output_type": "stream",
     "text": [
      "ans = Cingulum_Ant_L\n",
      "ans = Temporal_Mid_L\n",
      "ans = Frontal_Inf_Tri_L\n",
      "ans = Frontal_Sup_Medial_L\n",
      "ans = Frontal_Inf_Tri_L\n",
      "ans = Frontal_Inf_Tri_R\n",
      "ans = Precuneus_R\n",
      "ans = Frontal_Inf_Tri_L\n",
      "ans = Frontal_Inf_Oper_L\n",
      "ans = Supp_Motor_Area_L\n",
      "ans = Precentral_L\n",
      "ans = Temporal_Mid_R\n",
      "ans = SupraMarginal_R\n",
      "ans = Frontal_Sup_R\n",
      "ans =\n",
      "\n",
      "    1.7647\n",
      "    3.5294\n",
      "    5.2941\n",
      "    7.0588\n",
      "    8.8235\n",
      "   10.5882\n",
      "   12.3530\n",
      "   14.1177\n",
      "   15.8824\n",
      "   17.6471\n",
      "   19.4118\n",
      "   21.1765\n",
      "   22.9412\n",
      "   24.7059\n",
      "\n"
     ]
    }
   ],
   "source": [
    "clusters(prime_list).label\n",
    "k_len_aic'"
   ]
  },
  {
   "cell_type": "markdown",
   "metadata": {},
   "source": [
    "---\n",
    "**Step 5: Redo the classification using the words & regions identified with the forward stepwise searches.**\n",
    "\n",
    "The _configuration\\__fssearch.m_ file contains the terms and locations identified in our attempted replication, as opposed to the original features.\n"
   ]
  },
  {
   "cell_type": "code",
   "execution_count": 19,
   "metadata": {},
   "outputs": [
    {
     "name": "stdout",
     "output_type": "stream",
     "text": [
      "Aff subj: 11000000010000101\n",
      "Con subj: 10001011000100100\n",
      "Mean group membership classification accuracy: 0.32\n"
     ]
    }
   ],
   "source": [
    "% Using the forward stepwise search features\n",
    "[meanacc,full_acc] = group_membership('configuration_fssearch');"
   ]
  },
  {
   "cell_type": "markdown",
   "metadata": {},
   "source": [
    "The 32% accuracy is far below the original 91% accuracy originally reported and precisely at chance rates."
   ]
  },
  {
   "cell_type": "markdown",
   "metadata": {},
   "source": [
    "---\n",
    "**Step 6: Redo the classification using all words and the originally selected regions.** \n",
    "\n",
    "The _configuration\\__all\\__words.m_ file contains a list of all the terms (no feature selection on words) and the list of regions."
   ]
  },
  {
   "cell_type": "code",
   "execution_count": 20,
   "metadata": {},
   "outputs": [
    {
     "name": "stdout",
     "output_type": "stream",
     "text": [
      "Aff subj: 01110110111101101\n",
      "Con subj: 10100010100110101\n",
      "Mean group membership classification accuracy: 0.59\n"
     ]
    }
   ],
   "source": [
    "[meanacc,full_acc] = group_membership('configuration_all_words');"
   ]
  },
  {
   "cell_type": "markdown",
   "metadata": {},
   "source": [
    "The 59% accuracy is well below the original accuracy."
   ]
  },
  {
   "cell_type": "markdown",
   "metadata": {},
   "source": [
    "---\n",
    "**Step 7: Redo the classification using all regions and the originally selected words.**\n",
    "\n",
    "The _configuration\\__all\\__regions.m_ file contains a list of all available regions (no feature selection on regions) and the list of terms."
   ]
  },
  {
   "cell_type": "code",
   "execution_count": 21,
   "metadata": {},
   "outputs": [
    {
     "name": "stdout",
     "output_type": "stream",
     "text": [
      "Aff subj: 01111011111101011\n",
      "Con subj: 01100011010110101\n",
      "Mean group membership classification accuracy: 0.65\n"
     ]
    }
   ],
   "source": [
    "[meanacc,full_acc] = group_membership('configuration_all_regions');"
   ]
  },
  {
   "cell_type": "markdown",
   "metadata": {},
   "source": [
    "The 65% accuracy is well below the original accuracy."
   ]
  },
  {
   "cell_type": "markdown",
   "metadata": {},
   "source": [
    "---\n",
    "**Step 8: Redo the classification using all regions and all terms (no feature selection step beyond voxel stability**\n",
    "\n",
    "The _configuration\\__full.m_ file contains the original list of all available regions and terms."
   ]
  },
  {
   "cell_type": "code",
   "execution_count": 22,
   "metadata": {},
   "outputs": [
    {
     "name": "stdout",
     "output_type": "stream",
     "text": [
      "Aff subj: 01110110101100001\n",
      "Con subj: 10100010000100001\n",
      "Mean group membership classification accuracy: 0.41\n"
     ]
    }
   ],
   "source": [
    "[meanacc,full_acc] = group_membership('configuration_full');"
   ]
  },
  {
   "cell_type": "markdown",
   "metadata": {},
   "source": [
    "The 41% accuracy is well below chance and well below the original accuracy."
   ]
  }
 ],
 "metadata": {
  "kernelspec": {
   "display_name": "Octave",
   "language": "octave",
   "name": "octave"
  },
  "language_info": {
   "file_extension": ".m",
   "help_links": [
    {
     "text": "GNU Octave",
     "url": "https://www.gnu.org/software/octave/support.html"
    },
    {
     "text": "Octave Kernel",
     "url": "https://github.com/Calysto/octave_kernel"
    },
    {
     "text": "MetaKernel Magics",
     "url": "https://metakernel.readthedocs.io/en/latest/source/README.html"
    }
   ],
   "mimetype": "text/x-octave",
   "name": "octave",
   "version": "6.2.0"
  }
 },
 "nbformat": 4,
 "nbformat_minor": 2
}
