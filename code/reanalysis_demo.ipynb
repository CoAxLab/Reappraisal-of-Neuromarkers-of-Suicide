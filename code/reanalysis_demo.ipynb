{
 "cells": [
  {
   "cell_type": "markdown",
   "metadata": {},
   "source": [
    "## Reanalysis of Just et al. 2017\n",
    "\n",
    "This notebook describes the steps of the reanalysis of the results from Just, M. A., Pan, L., Cherkassky, V. L., McMakin, D. L., Cha, C., Nock, M. K., & Brent, D. (2017). Machine learning of neural representations of suicide and emotion concepts identifies suicidal youth. Nature human behaviour, 1(12), 911-919.\n"
   ]
  },
  {
   "cell_type": "markdown",
   "metadata": {},
   "source": [
    "\n",
    "**Requirements**:\n",
    "\n",
    "To run this demo, you will need\n",
    "\n",
    "Octave v.6.2.0\n",
    "\n",
    "Statistics pkg v1.4.2"
   ]
  },
  {
   "cell_type": "markdown",
   "metadata": {},
   "source": [
    "---\n",
    "**Step 1: Get requirements loaded for running the demo**\n",
    "\n",
    "For this we are running the octave kernel. Run \n",
    "\n",
    ">pip-install octave kernel \n",
    "\n",
    "from the command line if you want to run this as a notebook yourself."
   ]
  },
  {
   "cell_type": "markdown",
   "metadata": {},
   "source": [
    "If you have not already done so, you will also need to install the statistics package for Octave found in the current directory if you have not already. You can uncomment the following line or run it natively in your local Octave environment."
   ]
  },
  {
   "cell_type": "code",
   "execution_count": 1,
   "metadata": {},
   "outputs": [],
   "source": [
    "#pkg install statistics-1.4.2.tar.gz"
   ]
  },
  {
   "cell_type": "markdown",
   "metadata": {},
   "source": [
    "Then load the statistics package to have access to the functions."
   ]
  },
  {
   "cell_type": "code",
   "execution_count": 41,
   "metadata": {},
   "outputs": [],
   "source": [
    "# Since we are using Octave we need to load the statistics pkg to use \n",
    "# logistic regression function.\n",
    "pkg load statistics"
   ]
  },
  {
   "cell_type": "markdown",
   "metadata": {},
   "source": [
    "---\n",
    "**Step 2: Replicate the results from Just et al. 2017.**\n",
    "\n",
    "To start, run the *configuration.m* file to load the prior variables in the workspace. This shows the core parameters/features of the original analysis."
   ]
  },
  {
   "cell_type": "code",
   "execution_count": 3,
   "metadata": {},
   "outputs": [
    {
     "output_type": "stream",
     "name": "stdout",
     "text": [
      "Variables visible from the current scope:\n\naff_subj2use     descriptor       loc_aff2use      pd\nans              in_aff_clusters  loc_con2use      selector\ncon_subj2use     in_common        minnvox          vsel\ndata2use         in_con_clusters  nvox             words2use\n\n"
     ]
    }
   ],
   "source": [
    "# Load the config file\n",
    "configuration\n",
    "who"
   ]
  },
  {
   "cell_type": "markdown",
   "metadata": {},
   "source": [
    "Next load the word labels to get the words used in the classifier. "
   ]
  },
  {
   "cell_type": "code",
   "execution_count": 4,
   "metadata": {},
   "outputs": [
    {
     "output_type": "stream",
     "name": "stdout",
     "text": [
      "ans = death\nans = carefree\nans = good\nans = cruelty\nans = praise\nans = trouble\n"
     ]
    }
   ],
   "source": [
    "# Load words object\n",
    "load ../data/words.mat\n",
    "words{words2use}"
   ]
  },
  {
   "cell_type": "markdown",
   "metadata": {},
   "source": [
    "Then show the regions selected for each group (_aff_ and _con_) respectively."
   ]
  },
  {
   "cell_type": "code",
   "execution_count": 5,
   "metadata": {},
   "outputs": [
    {
     "output_type": "stream",
     "name": "stdout",
     "text": [
      "ans = Parietal_Inf_L\nans = Frontal_Inf_Tri_L\n"
     ]
    }
   ],
   "source": [
    "load ../data/aff_stabLocations.mat\n",
    "clusters(loc_aff2use).label"
   ]
  },
  {
   "cell_type": "code",
   "execution_count": 6,
   "metadata": {},
   "outputs": [
    {
     "output_type": "stream",
     "name": "stdout",
     "text": [
      "ans = Frontal_Sup_Medial_L\nans = Cingulum_Ant_L\nans = Temporal_Mid_R\n"
     ]
    }
   ],
   "source": [
    "load ../data/con_stabLocations.mat\n",
    "clusters(loc_con2use).label"
   ]
  },
  {
   "cell_type": "markdown",
   "metadata": {},
   "source": [
    "Now clear the workspace and run their analysis from scratch using the default _configuration.m_ file."
   ]
  },
  {
   "cell_type": "code",
   "execution_count": 7,
   "metadata": {},
   "outputs": [
    {
     "output_type": "stream",
     "name": "stdout",
     "text": [
      "Aff subj: 01111111111101111\n",
      "Con subj: 11111111111110111\n",
      "Mean group membership classification accuracy: 0.91\n"
     ]
    }
   ],
   "source": [
    "[meanacc,full_acc] = group_membership('configuration');"
   ]
  },
  {
   "cell_type": "markdown",
   "metadata": {},
   "source": [
    "As you can see, the steps perfectly replicate the results reported in the original manuscript."
   ]
  },
  {
   "cell_type": "markdown",
   "metadata": {},
   "source": [
    "---\n",
    "**Step 3: Run a forwards stepwise search for the reliable terms (words) using all of the stable regions and logistic regression classifier.**\n",
    "\n",
    "The _configuration_stepwise_search.m_ file defines the parameters of this routine. \n",
    "\n",
    "We tried to stick to the authors' original code as much as possible. Thus we kept with the configuration file scheme for all new functions.\n"
   ]
  },
  {
   "cell_type": "markdown",
   "metadata": {},
   "source": [
    "**Note:** This can take up to an hour to run, depending on whether you are using Matlab or Octave and your processor speed. So go make a tea and come back if you run the next cell."
   ]
  },
  {
   "cell_type": "code",
   "execution_count": 36,
   "metadata": {},
   "outputs": [
    {
     "output_type": "stream",
     "name": "stdout",
     "text": [
      "\n",
      "\n",
      "\n",
      "\n",
      "\n",
      "\n",
      "\n",
      "\n",
      "\n",
      "\n",
      "\n",
      "\n",
      "\n",
      "\n",
      "\n",
      "\n",
      "\n",
      "\n",
      "\n",
      "\n",
      "\n",
      "\n",
      "\n",
      "\n",
      "\n",
      "\n",
      "\n",
      "\n",
      "\n",
      "\n",
      "\n",
      "\n",
      "\n",
      "\n",
      "\n",
      "\n",
      "\n",
      "\n",
      "\n",
      "\n",
      "\n",
      "\n",
      "\n",
      "\n",
      "\n",
      "\n",
      "\n",
      "\n",
      "\n",
      "\n",
      "\n",
      "\n",
      "\n",
      "\n",
      "\n",
      "\n",
      "\n",
      "\n",
      "\n",
      "\n",
      "\n",
      "\n",
      "\n",
      "\n",
      "\n",
      "\n",
      "\n",
      "\n",
      "\n",
      "\n",
      "\n",
      "\n",
      "\n",
      "\n",
      "\n",
      "\n",
      "\n",
      "\n",
      "\n",
      "\n",
      "\n",
      "\n",
      "\n",
      "\n",
      "\n",
      "\n",
      "\n",
      "\n",
      "\n",
      "\n",
      "\n",
      "\n",
      "\n",
      "\n",
      "\n",
      "\n",
      "\n",
      "\n",
      "\n",
      "\n",
      "\n",
      "\n",
      "\n",
      "\n",
      "\n",
      "\n",
      "\n",
      "\n",
      "\n",
      "\n",
      "\n",
      "\n",
      "\n",
      "\n",
      "\n",
      "\n",
      "\n",
      "\n",
      "\n",
      "\n",
      "\n",
      "\n",
      "\n",
      "\n",
      "\n",
      "\n",
      "\n",
      "\n",
      "\n",
      "\n",
      "\n",
      "\n",
      "\n",
      "\n",
      "\n",
      "\n",
      "\n",
      "\n",
      "\n",
      "\n",
      "\n",
      "\n",
      "\n",
      "\n",
      "\n",
      "\n",
      "\n",
      "\n",
      "\n",
      "\n",
      "\n",
      "\n",
      "\n",
      "\n",
      "\n",
      "\n",
      "\n",
      "\n",
      "\n",
      "\n",
      "\n",
      "\n",
      "\n",
      "\n",
      "\n",
      "\n",
      "\n",
      "\n",
      "\n",
      "\n",
      "\n",
      "\n",
      "\n",
      "\n",
      "\n",
      "\n",
      "\n",
      "\n",
      "\n",
      "\n",
      "\n",
      "\n",
      "\n",
      "\n",
      "\n",
      "\n",
      "\n",
      "\n",
      "\n",
      "\n",
      "\n",
      "\n",
      "\n",
      "\n",
      "\n",
      "\n",
      "\n",
      "\n",
      "\n",
      "\n",
      "\n",
      "\n",
      "\n",
      "\n",
      "\n",
      "\n",
      "\n",
      "\n",
      "\n",
      "\n",
      "\n",
      "\n",
      "\n",
      "\n",
      "\n",
      "\n",
      "\n",
      "\n",
      "\n",
      "\n",
      "\n",
      "\n",
      "\n",
      "\n",
      "\n",
      "\n",
      "\n",
      "\n",
      "\n",
      "\n",
      "\n",
      "\n",
      "\n",
      "\n",
      "\n",
      "\n",
      "\n",
      "\n",
      "\n",
      "\n",
      "\n",
      "\n",
      "\n",
      "\n",
      "\n",
      "\n",
      "\n",
      "\n",
      "\n",
      "\n",
      "\n",
      "\n",
      "\n",
      "\n",
      "\n",
      "\n",
      "\n",
      "\n",
      "\n",
      "\n",
      "\n",
      "\n",
      "\n",
      "\n",
      "\n",
      "\n",
      "\n",
      "\n",
      "\n",
      "\n",
      "\n",
      "\n",
      "\n",
      "\n",
      "\n",
      "\n",
      "\n",
      "\n",
      "\n",
      "\n",
      "\n",
      "\n",
      "\n",
      "\n",
      "\n",
      "\n",
      "\n",
      "\n",
      "\n",
      "\n",
      "\n",
      "\n",
      "\n",
      "\n",
      "\n",
      "\n",
      "\n",
      "\n",
      "\n",
      "\n",
      "\n",
      "\n",
      "\n",
      "\n",
      "\n",
      "\n",
      "\n",
      "\n",
      "\n",
      "\n",
      "\n",
      "\n",
      "\n",
      "\n",
      "\n",
      "\n",
      "\n",
      "\n",
      "\n",
      "\n",
      "\n",
      "\n",
      "\n",
      "\n",
      "\n",
      "\n",
      "\n",
      "\n",
      "\n",
      "\n",
      "\n",
      "\n",
      "\n",
      "\n",
      "\n",
      "\n",
      "\n",
      "\n",
      "\n",
      "\n",
      "\n",
      "\n",
      "\n",
      "\n",
      "\n",
      "\n",
      "\n",
      "\n",
      "\n",
      "\n",
      "\n",
      "\n",
      "\n",
      "\n",
      "\n",
      "\n",
      "\n",
      "\n",
      "\n",
      "\n",
      "\n",
      "\n",
      "\n",
      "\n",
      "\n",
      "\n",
      "\n",
      "\n",
      "\n",
      "\n",
      "\n",
      "\n",
      "\n",
      "\n",
      "\n",
      "\n",
      "\n",
      "\n",
      "\n",
      "\n",
      "\n",
      "\n",
      "\n",
      "\n",
      "\n",
      "\n",
      "\n",
      "\n",
      "\n",
      "\n",
      "\n",
      "\n",
      "\n",
      "\n",
      "\n",
      "\n",
      "\n",
      "\n",
      "\n",
      "\n",
      "\n",
      "\n",
      "\n",
      "\n",
      "\n",
      "\n",
      "\n",
      "\n",
      "\n",
      "\n",
      "\n",
      "\n",
      "\n",
      "\n",
      "\n",
      "\n",
      "\n",
      "\n",
      "\n",
      "\n",
      "\n",
      "\n",
      "\n",
      "\n",
      "\n",
      "\n",
      "\n",
      "\n",
      "\n",
      "\n",
      "\n",
      "\n",
      "\n",
      "\n",
      "\n",
      "\n",
      "\n",
      "\n",
      "\n",
      "\n",
      "\n",
      "\n",
      "\n",
      "\n",
      "\n",
      "\n",
      "\n",
      "\n",
      "\n",
      "\n",
      "\n",
      "\n",
      "\n",
      "\n",
      "\n",
      "\n",
      "\n",
      "\n",
      "\n",
      "\n",
      "\n",
      "\n",
      "\n",
      "\n",
      "\n",
      "\n",
      "\n",
      "\n",
      "\n",
      "\n",
      "\n",
      "\n",
      "\n",
      "\n",
      "\n",
      "\n",
      "\n",
      "\n",
      "\n",
      "\n",
      "\n",
      "\n",
      "\n",
      "\n",
      "\n",
      "\n",
      "\n",
      "\n",
      "\n",
      "\n",
      "\n",
      "\n",
      "\n",
      "\n",
      "\n",
      "\n",
      "\n",
      "\n",
      "\n",
      "\n",
      "\n",
      "\n",
      "\n",
      "\n",
      "\n",
      "\n",
      "k=30, w = 1\n",
      "error: 'kc_len_aic' undefined near line 1, column 1\n"
     ]
    }
   ],
   "source": [
    "# Clear the workspace \n",
    "clear \n",
    "\n",
    "# Run forward stepwise search for words, using all regions.\n",
    "[prime_list, k_len_aic] = logistic_regression_wordsearch('configuration_stepwise_search');\n",
    "word_list = prime_list(1:find(k_len_aic == min(kc_len_aic)));"
   ]
  },
  {
   "cell_type": "markdown",
   "metadata": {},
   "source": [
    "The word list recovered using this search does not match the prior words. Only 1 term is recovered and it does not match with the original original set."
   ]
  },
  {
   "cell_type": "code",
   "execution_count": 37,
   "metadata": {},
   "outputs": [
    {
     "output_type": "stream",
     "name": "stdout",
     "text": [
      "ans = vitality\n"
     ]
    }
   ],
   "source": [
    "word_list = prime_list(1:find(k_len_aic == min(k_len_aic)));\n",
    "load ../data/words.mat\n",
    "words{word_list}\n"
   ]
  },
  {
   "source": [
    "If we look at the rank ordering of the words from the stepwise search, we fail to find a substantial overlap with the original list."
   ],
   "cell_type": "markdown",
   "metadata": {}
  },
  {
   "cell_type": "code",
   "execution_count": 38,
   "metadata": {},
   "outputs": [
    {
     "output_type": "stream",
     "name": "stdout",
     "text": [
      "ans = vitality\nans = apathy\nans = death\nans = desperate\nans = distressed\nans = fatal\nans = funeral\nans = hopeless\nans = lifeless\nans = overdose\nans = suicide\nans = bliss\nans = carefree\nans = comfort\nans = excellent\nans = good\nans = innocent\nans = kindness\nans = praise\nans = superior\nans = boredom\nans = criticism\nans = cruelty\nans = evil\nans = gloom\nans = guilty\nans = inferior\nans = terrible\nans = trouble\nans = worried\n"
     ]
    }
   ],
   "source": [
    "words{prime_list}\n"
   ]
  },
  {
   "source": [
    "The associated AIC values for the list are:"
   ],
   "cell_type": "markdown",
   "metadata": {}
  },
  {
   "cell_type": "code",
   "execution_count": 40,
   "metadata": {},
   "outputs": [
    {
     "output_type": "stream",
     "name": "stdout",
     "text": [
      "ans =\n\n    1.4706\n    2.9412\n    4.4118\n    5.8824\n    7.3529\n    8.8235\n   10.2941\n   11.7647\n   13.2353\n   14.7059\n   16.1765\n   17.6471\n   19.1177\n   20.5882\n   22.0588\n   23.5294\n   25.0000\n   26.4706\n   27.9412\n   29.4118\n   30.8824\n   32.3530\n   33.8236\n   35.2941\n   36.7647\n   38.2353\n   39.7059\n   41.1765\n   42.6471\n   44.1177\n\n"
     ]
    }
   ],
   "source": [
    "k_len_aic'"
   ]
  },
  {
   "cell_type": "markdown",
   "metadata": {},
   "source": [
    "---\n",
    "**Step 4: Run a forwards stepwise search for regions (locations) from both the _aff_ and _con_ groups separately, using all words.**\n",
    "\n",
    "This will use all words to avoid information leakage from the original word selection steps.\n",
    "\n",
    "The reason for the separate set per group is because stable voxels were identified per group instead of across all participants. (Again, this takes a while to run)"
   ]
  },
  {
   "cell_type": "code",
   "execution_count": 26,
   "metadata": {},
   "outputs": [
    {
     "output_type": "stream",
     "name": "stdout",
     "text": [
      "\n",
      "\n",
      "\n",
      "\n",
      "\n",
      "\n",
      "\n",
      "\n",
      "\n",
      "\n",
      "\n",
      "\n",
      "\n",
      "\n",
      "\n",
      "\n",
      "\n",
      "\n",
      "\n",
      "\n",
      "\n",
      "\n",
      "\n",
      "\n",
      "\n",
      "\n",
      "\n",
      "\n",
      "\n",
      "\n",
      "\n",
      "\n",
      "\n",
      "\n",
      "\n",
      "\n",
      "\n",
      "\n",
      "\n",
      "\n",
      "\n",
      "\n",
      "\n",
      "\n",
      "\n",
      "\n",
      "\n",
      "\n",
      "\n",
      "\n",
      "\n",
      "\n",
      "\n",
      "\n",
      "\n",
      "\n",
      "\n",
      "\n",
      "\n",
      "\n",
      "\n",
      "\n",
      "\n",
      "\n",
      "\n",
      "k=11, r = 1\n"
     ]
    }
   ],
   "source": [
    "# Clear the workspace \n",
    "clear \n",
    "\n",
    "% Run forward stepwise search for affective group regions, using all words\n",
    "[prime_list, k_len_aic] = logistic_regression_aff_roisearch('configuration_stepwise_search');\n",
    "aff_region_list = prime_list(1:find(k_len_aic == min(k_len_aic)));"
   ]
  },
  {
   "cell_type": "markdown",
   "metadata": {},
   "source": [
    "This search also recovers a different set of regions than reported in the original paper."
   ]
  },
  {
   "cell_type": "code",
   "execution_count": 30,
   "metadata": {},
   "outputs": [
    {
     "output_type": "stream",
     "name": "stdout",
     "text": [
      "ans = Angular_L\n"
     ]
    }
   ],
   "source": [
    "load ../data/aff_stabLocations.mat\n",
    "clusters(aff_region_list).label\n"
   ]
  },
  {
   "cell_type": "markdown",
   "metadata": {},
   "source": [
    "Only one region (left angular gyrus) overlaps with the originally reported set.\n",
    "\n",
    "Even if we look at the ordered list of selected regions (assuming that AIC is too harsh of a complexity penalty), the order of regions returned at each step of the stepwise tests (that evaluate models with equal complexity) the first set of items does not include the original regions."
   ]
  },
  {
   "cell_type": "code",
   "execution_count": 12,
   "metadata": {},
   "outputs": [
    {
     "output_type": "stream",
     "name": "stdout",
     "text": [
      "ans = Angular_L\nans = Parietal_Sup_L\nans = Precuneus_L\nans = Supp_Motor_Area_L\nans = Temporal_Mid_L\nans = Precentral_L\nans = Frontal_Inf_Tri_L\nans = Temporal_Mid_R\nans = Frontal_Inf_Tri_L\nans = Frontal_Inf_Oper_L\nans = Parietal_Inf_L\n"
     ]
    }
   ],
   "source": [
    "clusters(prime_list).label"
   ]
  },
  {
   "cell_type": "markdown",
   "metadata": {},
   "source": [
    "The sorted AIC values for the above list is:"
   ]
  },
  {
   "cell_type": "code",
   "execution_count": 13,
   "metadata": {},
   "outputs": [
    {
     "output_type": "stream",
     "name": "stdout",
     "text": [
      "ans =\n\n    1.7647\n    3.5295\n    5.2942\n    7.0589\n    8.8237\n   10.5886\n   12.3533\n   14.1180\n   15.8827\n   17.6474\n   19.4121\n\n"
     ]
    }
   ],
   "source": [
    "k_len_aic'"
   ]
  },
  {
   "cell_type": "markdown",
   "metadata": {},
   "source": [
    "Now let us try the same thing for the _con_ group."
   ]
  },
  {
   "cell_type": "code",
   "execution_count": 31,
   "metadata": {},
   "outputs": [
    {
     "output_type": "stream",
     "name": "stdout",
     "text": [
      "\n",
      "\n",
      "\n",
      "\n",
      "\n",
      "\n",
      "\n",
      "\n",
      "\n",
      "\n",
      "\n",
      "\n",
      "\n",
      "\n",
      "\n",
      "\n",
      "\n",
      "\n",
      "\n",
      "\n",
      "\n",
      "\n",
      "\n",
      "\n",
      "\n",
      "\n",
      "\n",
      "\n",
      "\n",
      "\n",
      "\n",
      "\n",
      "\n",
      "\n",
      "\n",
      "\n",
      "\n",
      "\n",
      "\n",
      "\n",
      "\n",
      "\n",
      "\n",
      "\n",
      "\n",
      "\n",
      "\n",
      "\n",
      "\n",
      "\n",
      "\n",
      "\n",
      "\n",
      "\n",
      "\n",
      "\n",
      "\n",
      "\n",
      "\n",
      "\n",
      "\n",
      "\n",
      "\n",
      "\n",
      "\n",
      "\n",
      "\n",
      "\n",
      "\n",
      "\n",
      "\n",
      "\n",
      "\n",
      "\n",
      "\n",
      "\n",
      "\n",
      "\n",
      "\n",
      "\n",
      "\n",
      "\n",
      "\n",
      "\n",
      "\n",
      "\n",
      "\n",
      "\n",
      "\n",
      "\n",
      "\n",
      "\n",
      "\n",
      "\n",
      "\n",
      "\n",
      "\n",
      "\n",
      "\n",
      "\n",
      "\n",
      "\n",
      "\n",
      "\n",
      "k=14, r = 1\n"
     ]
    }
   ],
   "source": [
    "# Clear the workspace\n",
    "clear\n",
    "\n",
    "# Run forward stepwise search for control group regions, using all words\n",
    "[prime_list, k_len_aic] = logistic_regression_con_roisearch('configuration_stepwise_search');\n",
    "con_region_list = prime_list(1:find(k_len_aic == min(k_len_aic)));"
   ]
  },
  {
   "cell_type": "code",
   "execution_count": 33,
   "metadata": {},
   "outputs": [
    {
     "output_type": "stream",
     "name": "stdout",
     "text": [
      "ans = Cingulum_Ant_L\n"
     ]
    }
   ],
   "source": [
    "load ../data/con_stabLocations.mat\n",
    "clusters(con_region_list).label\n"
   ]
  },
  {
   "cell_type": "markdown",
   "metadata": {},
   "source": [
    "Only one region was observed, which was one of the three regions in the original set for this group.\n",
    "\n",
    "Again, even if we look at the ordered list of selected regions (assuming that AIC is too harsh of a complexity penalty), the order of regions returned at each step of the stepwise tests (that evaluate models with equal complexity) the first set of items does not include the original regions."
   ]
  },
  {
   "cell_type": "code",
   "execution_count": 34,
   "metadata": {},
   "outputs": [
    {
     "output_type": "stream",
     "name": "stdout",
     "text": [
      "ans = Cingulum_Ant_L\n",
      "ans = Temporal_Mid_L\n",
      "ans = Frontal_Inf_Tri_L\n",
      "ans = Frontal_Sup_Medial_L\n",
      "ans = Frontal_Inf_Tri_L\n",
      "ans = Frontal_Inf_Tri_R\n",
      "ans = Precuneus_R\n",
      "ans = Frontal_Inf_Tri_L\n",
      "ans = Frontal_Inf_Oper_L\n",
      "ans = Supp_Motor_Area_L\n",
      "ans = Precentral_L\n",
      "ans = Temporal_Mid_R\n",
      "ans = SupraMarginal_R\n",
      "ans = Frontal_Sup_R\n",
      "ans =\n",
      "\n",
      "    1.7647\n",
      "    3.5294\n",
      "    5.2941\n",
      "    7.0588\n",
      "    8.8235\n",
      "   10.5882\n",
      "   12.3530\n",
      "   14.1177\n",
      "   15.8824\n",
      "   17.6471\n",
      "   19.4118\n",
      "   21.1765\n",
      "   22.9412\n",
      "   24.7059\n",
      "\n"
     ]
    }
   ],
   "source": [
    "clusters(prime_list).label\n",
    "k_len_aic'"
   ]
  },
  {
   "cell_type": "markdown",
   "metadata": {},
   "source": [
    "---\n",
    "**Step 5: Redo the classification using the words & regions identified with the forward stepwise searches.**\n",
    "\n",
    "The _configuration\\__fssearch.m_ file contains the terms and locations identified in our attempted replication, as opposed to the original features.\n"
   ]
  },
  {
   "cell_type": "code",
   "execution_count": 35,
   "metadata": {},
   "outputs": [
    {
     "output_type": "stream",
     "name": "stdout",
     "text": [
      "Aff subj: 11000000010000101\n",
      "Con subj: 10001011000100100\n",
      "Mean group membership classification accuracy: 0.32\n"
     ]
    }
   ],
   "source": [
    "% Using the forward stepwise search features\n",
    "[meanacc,full_acc] = group_membership('configuration_fssearch');"
   ]
  },
  {
   "cell_type": "markdown",
   "metadata": {},
   "source": [
    "The 32% accuracy is far below the original 91% accuracy originally reported and precisely at chance rates."
   ]
  },
  {
   "cell_type": "markdown",
   "metadata": {},
   "source": [
    "---\n",
    "**Step 6: Redo the classification using all words and the originally selected regions.** \n",
    "\n",
    "The _configuration\\__all\\__words.m_ file contains a list of all the terms (no feature selection on words) and the list of regions."
   ]
  },
  {
   "cell_type": "code",
   "execution_count": 18,
   "metadata": {},
   "outputs": [
    {
     "output_type": "stream",
     "name": "stdout",
     "text": [
      "Aff subj: 01110110111101101\n",
      "Con subj: 10100010100110101\n",
      "Mean group membership classification accuracy: 0.59\n"
     ]
    }
   ],
   "source": [
    "[meanacc,full_acc] = group_membership('configuration_all_words');"
   ]
  },
  {
   "cell_type": "markdown",
   "metadata": {},
   "source": [
    "The 59% accuracy is well below the original accuracy."
   ]
  },
  {
   "cell_type": "markdown",
   "metadata": {},
   "source": [
    "---\n",
    "**Step 7: Redo the classification using all regions and the originally selected words.**\n",
    "\n",
    "The _configuration\\__all\\__regions.m_ file contains a list of all available regions (no feature selection on regions) and the list of terms."
   ]
  },
  {
   "cell_type": "code",
   "execution_count": 19,
   "metadata": {},
   "outputs": [
    {
     "output_type": "stream",
     "name": "stdout",
     "text": [
      "Aff subj: 01111011111101011\n",
      "Con subj: 01100011010110101\n",
      "Mean group membership classification accuracy: 0.65\n"
     ]
    }
   ],
   "source": [
    "[meanacc,full_acc] = group_membership('configuration_all_regions');"
   ]
  },
  {
   "cell_type": "markdown",
   "metadata": {},
   "source": [
    "The 65% accuracy is well below the original accuracy."
   ]
  },
  {
   "cell_type": "markdown",
   "metadata": {},
   "source": [
    "---\n",
    "**Step 8: Redo the classification using all regions and all terms (no feature selection step beyond voxel stability**\n",
    "\n",
    "The _configuration\\__full.m_ file contains the original list of all available regions and terms."
   ]
  },
  {
   "cell_type": "code",
   "execution_count": 20,
   "metadata": {},
   "outputs": [
    {
     "output_type": "stream",
     "name": "stdout",
     "text": [
      "Aff subj: 01110110101100001\n",
      "Con subj: 10100010000100001\n",
      "Mean group membership classification accuracy: 0.41\n"
     ]
    }
   ],
   "source": [
    "[meanacc,full_acc] = group_membership('configuration_full');"
   ]
  },
  {
   "cell_type": "markdown",
   "metadata": {},
   "source": [
    "The 41% accuracy is well below chance and well below the original accuracy."
   ]
  }
 ],
 "metadata": {
  "kernelspec": {
   "display_name": "Octave",
   "language": "octave",
   "name": "python371jvsc74a57bd03a7644a4fbddeedae573fc26363282aaa60fad0a8143399cd45d083ed0e9eff0"
  },
  "language_info": {
   "file_extension": ".m",
   "help_links": [
    {
     "text": "GNU Octave",
     "url": "https://www.gnu.org/software/octave/support.html"
    },
    {
     "text": "Octave Kernel",
     "url": "https://github.com/Calysto/octave_kernel"
    },
    {
     "text": "MetaKernel Magics",
     "url": "https://metakernel.readthedocs.io/en/latest/source/README.html"
    }
   ],
   "mimetype": "text/x-octave",
   "name": "octave",
   "version": "6.2.0"
  }
 },
 "nbformat": 4,
 "nbformat_minor": 2
}